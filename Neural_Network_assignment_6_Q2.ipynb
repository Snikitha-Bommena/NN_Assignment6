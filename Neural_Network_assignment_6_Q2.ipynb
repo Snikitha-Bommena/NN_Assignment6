{
  "nbformat": 4,
  "nbformat_minor": 0,
  "metadata": {
    "colab": {
      "provenance": []
    },
    "kernelspec": {
      "name": "python3",
      "display_name": "Python 3"
    },
    "language_info": {
      "name": "python"
    }
  },
  "cells": [
    {
      "cell_type": "code",
      "execution_count": 19,
      "metadata": {
        "id": "LSfdaknRzpWM"
      },
      "outputs": [],
      "source": [
        "from keras import Sequential\n",
        "from keras.datasets import mnist\n",
        "import numpy as np\n",
        "from keras.layers import Dense\n",
        "from keras.utils import to_categorical\n",
        "import matplotlib.pyplot as plt\n",
        "\n"
      ]
    },
    {
      "cell_type": "code",
      "source": [
        "(train_images,train_labels),(test_images, test_labels) = mnist.load_data()"
      ],
      "metadata": {
        "id": "Ls5NOY0F1_iz"
      },
      "execution_count": 20,
      "outputs": []
    },
    {
      "cell_type": "code",
      "source": [
        "print(train_images.shape[1:])\n",
        "#process the data\n",
        "#1. convert each image of shape 28*28 to 784 dimensional which will be fed to the network as a single feature\n",
        "dimData = np.prod(train_images.shape[1:])\n",
        "print(dimData)\n",
        "train_data = train_images.reshape(train_images.shape[0],dimData)\n",
        "test_data = test_images.reshape(test_images.shape[0],dimData)"
      ],
      "metadata": {
        "id": "omIn_Frt2Ut9",
        "outputId": "7622c7f3-32a0-42b3-c97c-cd81d2be04f0",
        "colab": {
          "base_uri": "https://localhost:8080/"
        }
      },
      "execution_count": 21,
      "outputs": [
        {
          "output_type": "stream",
          "name": "stdout",
          "text": [
            "(28, 28)\n",
            "784\n"
          ]
        }
      ]
    },
    {
      "cell_type": "code",
      "source": [
        "#convert data to float and scale values between 0 and 1\n",
        "train_data = train_data.astype('float')\n",
        "test_data = test_data.astype('float')\n",
        "#scale data\n",
        "#train_data /=255.0\n",
        "#test_data /=255.0\n",
        "#change the labels frominteger to one-hot encoding. to_categorical is doing the same thing as LabelEncoder()\n",
        "train_labels_one_hot = to_categorical(train_labels)\n",
        "test_labels_one_hot = to_categorical(test_labels)"
      ],
      "metadata": {
        "id": "bAGAfyRG2o6c"
      },
      "execution_count": 75,
      "outputs": []
    },
    {
      "cell_type": "code",
      "source": [
        "#creating network\n",
        "model = Sequential()\n",
        "model.add(Dense(512, activation='relu', input_shape=(dimData,)))\n",
        "model.add(Dense(512, activation='relu'))\n",
        "model.add(Dense(10, activation='softmax'))\n",
        "\n",
        "model.compile(optimizer='rmsprop', loss='categorical_crossentropy', metrics=['accuracy'])\n",
        "history = model.fit(train_data, train_labels_one_hot, batch_size=256, epochs=10, verbose=1,\n",
        "                   validation_data=(test_data, test_labels_one_hot))"
      ],
      "metadata": {
        "id": "NvkJHZp-2xqa",
        "outputId": "d2cc68d7-a921-4ab8-a920-558d9a1fdd24",
        "colab": {
          "base_uri": "https://localhost:8080/"
        }
      },
      "execution_count": 76,
      "outputs": [
        {
          "output_type": "stream",
          "name": "stdout",
          "text": [
            "Epoch 1/10\n",
            "235/235 [==============================] - 6s 24ms/step - loss: 0.2889 - accuracy: 0.9112 - val_loss: 0.1438 - val_accuracy: 0.9504\n",
            "Epoch 2/10\n",
            "235/235 [==============================] - 6s 26ms/step - loss: 0.1001 - accuracy: 0.9695 - val_loss: 0.1164 - val_accuracy: 0.9624\n",
            "Epoch 3/10\n",
            "235/235 [==============================] - 5s 22ms/step - loss: 0.0634 - accuracy: 0.9805 - val_loss: 0.0905 - val_accuracy: 0.9722\n",
            "Epoch 4/10\n",
            "235/235 [==============================] - 6s 26ms/step - loss: 0.0436 - accuracy: 0.9857 - val_loss: 0.0755 - val_accuracy: 0.9763\n",
            "Epoch 5/10\n",
            "235/235 [==============================] - 5s 22ms/step - loss: 0.0319 - accuracy: 0.9897 - val_loss: 0.0662 - val_accuracy: 0.9798\n",
            "Epoch 6/10\n",
            "235/235 [==============================] - 6s 27ms/step - loss: 0.0222 - accuracy: 0.9933 - val_loss: 0.0645 - val_accuracy: 0.9811\n",
            "Epoch 7/10\n",
            "235/235 [==============================] - 5s 22ms/step - loss: 0.0167 - accuracy: 0.9947 - val_loss: 0.0760 - val_accuracy: 0.9794\n",
            "Epoch 8/10\n",
            "235/235 [==============================] - 6s 26ms/step - loss: 0.0134 - accuracy: 0.9956 - val_loss: 0.0748 - val_accuracy: 0.9804\n",
            "Epoch 9/10\n",
            "235/235 [==============================] - 5s 22ms/step - loss: 0.0098 - accuracy: 0.9967 - val_loss: 0.0751 - val_accuracy: 0.9798\n",
            "Epoch 10/10\n",
            "235/235 [==============================] - 6s 26ms/step - loss: 0.0079 - accuracy: 0.9974 - val_loss: 0.0724 - val_accuracy: 0.9811\n"
          ]
        }
      ]
    },
    {
      "cell_type": "code",
      "source": [
        "loss_train = history.history['loss']\n",
        "loss_val = history.history['val_loss']\n",
        "epochs = range(1,11)\n",
        "plt.plot(epochs, loss_train,'g', label='Training loss')\n",
        "plt.plot(epochs, loss_val,'b', label='validation loss')\n",
        "plt.title('Training and Validation loss')\n",
        "plt.xlabel('Epochs')\n",
        "plt.ylabel('Loss')\n",
        "plt.legend()\n",
        "plt.show()"
      ],
      "metadata": {
        "id": "IGdy4O2b3dFx",
        "outputId": "a1ea3792-bc3d-4fd6-8f30-6e407b33593f",
        "colab": {
          "base_uri": "https://localhost:8080/",
          "height": 295
        }
      },
      "execution_count": 77,
      "outputs": [
        {
          "output_type": "display_data",
          "data": {
            "text/plain": [
              "<Figure size 432x288 with 1 Axes>"
            ],
            "image/png": "[encoded data removed]"
          },
          "metadata": {
            "needs_background": "light"
          }
        }
      ]
    },
    {
      "cell_type": "code",
      "source": [
        "acc_train = history.history['accuracy']\n",
        "acc_val = history.history['val_accuracy']\n",
        "epochs = range(1,11)\n",
        "plt.plot(epochs, acc_train,'g', label='Training accuracy')\n",
        "plt.plot(epochs, acc_val,'b', label='validation accuracy')\n",
        "plt.title('Training and Validation accuracy')\n",
        "plt.xlabel('Epochs')\n",
        "plt.ylabel('Accuracy')\n",
        "plt.legend()\n",
        "plt.show()"
      ],
      "metadata": {
        "id": "EuU6SSxYKeCR",
        "outputId": "38e7cf3f-e515-42a6-e7a2-c623ac172464",
        "colab": {
          "base_uri": "https://localhost:8080/",
          "height": 295
        }
      },
      "execution_count": 78,
      "outputs": [
        {
          "output_type": "display_data",
          "data": {
            "text/plain": [
              "<Figure size 432x288 with 1 Axes>"
            ],
            "image/png": "[encoded data removed]"
          },
          "metadata": {
            "needs_background": "light"
          }
        }
      ]
    },
    {
      "cell_type": "code",
      "source": [
        "import random\n",
        "i = random.randint(0,28)\n",
        "plt.imshow(test_images[i], cmap = 'pink')\n",
        "plt.show()"
      ],
      "metadata": {
        "id": "zGIBRDxwMA9W",
        "outputId": "268e85c1-9c26-4d23-da1c-ce7ab4e81882",
        "colab": {
          "base_uri": "https://localhost:8080/",
          "height": 265
        }
      },
      "execution_count": 79,
      "outputs": [
        {
          "output_type": "display_data",
          "data": {
            "text/plain": [
              "<Figure size 432x288 with 1 Axes>"
            ],
            "image/png": "[encoded data removed]"
          },
          "metadata": {
            "needs_background": "light"
          }
        }
      ]
    },
    {
      "cell_type": "code",
      "source": [
        "train_image = test_images[i]\n",
        "mapping = {0:\"0\", 1:\"1\", 2:\"2\", 3:\"3\", 4:\"4\", 5:\"5\", 6:\"6\", 7:\"7\", 8:\"8\", 9:\"9\"}\n",
        "output = model.predict(train_image.reshape(1,784))\n",
        "print(\"\\n\\nFinal Output: {}\".format(np.argmax(output)))"
      ],
      "metadata": {
        "id": "7YE_vzC1TCzd",
        "outputId": "769d479c-14e3-4690-83a3-926cf10c1788",
        "colab": {
          "base_uri": "https://localhost:8080/"
        }
      },
      "execution_count": 80,
      "outputs": [
        {
          "output_type": "stream",
          "name": "stdout",
          "text": [
            "1/1 [==============================] - 0s 61ms/step\n",
            "\n",
            "\n",
            "Final Output: 7\n"
          ]
        }
      ]
    },
    {
      "cell_type": "code",
      "source": [
        "model_1 = Sequential()\n",
        "model_1.add(Dense(512, activation='relu', input_shape=(dimData,)))\n",
        "model_1.add(Dense(512, activation='relu'))\n",
        "model_1.add(Dense(256, activation='tanh'))\n",
        "model_1.add(Dense(128, activation='tanh'))\n",
        "model_1.add(Dense(10, activation='softmax'))\n",
        "model_1.compile(optimizer='rmsprop', loss='categorical_crossentropy', metrics=['accuracy'])\n",
        "history = model_1.fit(train_data, train_labels_one_hot, batch_size=256, epochs=10, verbose=1,\n",
        "                   validation_data=(test_data, test_labels_one_hot))"
      ],
      "metadata": {
        "id": "k-Qp1hLEoO0v",
        "outputId": "f6a58139-e378-4b38-cfc1-4974cf3ce260",
        "colab": {
          "base_uri": "https://localhost:8080/"
        }
      },
      "execution_count": 81,
      "outputs": [
        {
          "output_type": "stream",
          "name": "stdout",
          "text": [
            "Epoch 1/10\n",
            "235/235 [==============================] - 8s 32ms/step - loss: 0.2859 - accuracy: 0.9094 - val_loss: 0.1407 - val_accuracy: 0.9573\n",
            "Epoch 2/10\n",
            "235/235 [==============================] - 7s 29ms/step - loss: 0.0946 - accuracy: 0.9700 - val_loss: 0.1303 - val_accuracy: 0.9601\n",
            "Epoch 3/10\n",
            "235/235 [==============================] - 7s 31ms/step - loss: 0.0603 - accuracy: 0.9811 - val_loss: 0.0824 - val_accuracy: 0.9737\n",
            "Epoch 4/10\n",
            "235/235 [==============================] - 8s 33ms/step - loss: 0.0410 - accuracy: 0.9868 - val_loss: 0.1308 - val_accuracy: 0.9611\n",
            "Epoch 5/10\n",
            "235/235 [==============================] - 7s 28ms/step - loss: 0.0299 - accuracy: 0.9906 - val_loss: 0.0618 - val_accuracy: 0.9829\n",
            "Epoch 6/10\n",
            "235/235 [==============================] - 8s 32ms/step - loss: 0.0226 - accuracy: 0.9925 - val_loss: 0.0752 - val_accuracy: 0.9789\n",
            "Epoch 7/10\n",
            "235/235 [==============================] - 7s 31ms/step - loss: 0.0169 - accuracy: 0.9946 - val_loss: 0.0857 - val_accuracy: 0.9763\n",
            "Epoch 8/10\n",
            "235/235 [==============================] - 7s 29ms/step - loss: 0.0131 - accuracy: 0.9958 - val_loss: 0.0732 - val_accuracy: 0.9816\n",
            "Epoch 9/10\n",
            "235/235 [==============================] - 7s 31ms/step - loss: 0.0106 - accuracy: 0.9966 - val_loss: 0.0726 - val_accuracy: 0.9824\n",
            "Epoch 10/10\n",
            "235/235 [==============================] - 7s 29ms/step - loss: 0.0091 - accuracy: 0.9972 - val_loss: 0.0651 - val_accuracy: 0.9840\n"
          ]
        }
      ]
    },
    {
      "cell_type": "code",
      "source": [
        "model_1 = Sequential()\n",
        "model_1.add(Dense(512, activation='relu', input_shape=(dimData,)))\n",
        "model_1.add(Dense(512, activation='relu'))\n",
        "model_1.add(Dense(256, activation='sigmoid'))\n",
        "model_1.add(Dense(128, activation='sigmoid'))\n",
        "model_1.add(Dense(10, activation='softmax'))\n",
        "model_1.compile(optimizer='rmsprop', loss='categorical_crossentropy', metrics=['accuracy'])\n",
        "history = model_1.fit(train_data, train_labels_one_hot, batch_size=256, epochs=10, verbose=1,\n",
        "                   validation_data=(test_data, test_labels_one_hot))"
      ],
      "metadata": {
        "id": "A13qKTr0oW9E",
        "outputId": "1031015a-4cf6-49a4-a847-312997f86362",
        "colab": {
          "base_uri": "https://localhost:8080/"
        }
      },
      "execution_count": 82,
      "outputs": [
        {
          "output_type": "stream",
          "name": "stdout",
          "text": [
            "Epoch 1/10\n",
            "235/235 [==============================] - 8s 31ms/step - loss: 0.5987 - accuracy: 0.8290 - val_loss: 0.2978 - val_accuracy: 0.9046\n",
            "Epoch 2/10\n",
            "235/235 [==============================] - 8s 33ms/step - loss: 0.1599 - accuracy: 0.9536 - val_loss: 0.1357 - val_accuracy: 0.9602\n",
            "Epoch 3/10\n",
            "235/235 [==============================] - 7s 31ms/step - loss: 0.0984 - accuracy: 0.9701 - val_loss: 0.0873 - val_accuracy: 0.9745\n",
            "Epoch 4/10\n",
            "235/235 [==============================] - 7s 30ms/step - loss: 0.0672 - accuracy: 0.9796 - val_loss: 0.0825 - val_accuracy: 0.9744\n",
            "Epoch 5/10\n",
            "235/235 [==============================] - 8s 33ms/step - loss: 0.0508 - accuracy: 0.9844 - val_loss: 0.0710 - val_accuracy: 0.9787\n",
            "Epoch 6/10\n",
            "235/235 [==============================] - 7s 30ms/step - loss: 0.0369 - accuracy: 0.9889 - val_loss: 0.0642 - val_accuracy: 0.9810\n",
            "Epoch 7/10\n",
            "235/235 [==============================] - 7s 32ms/step - loss: 0.0282 - accuracy: 0.9914 - val_loss: 0.0613 - val_accuracy: 0.9814\n",
            "Epoch 8/10\n",
            "235/235 [==============================] - 7s 32ms/step - loss: 0.0203 - accuracy: 0.9936 - val_loss: 0.0773 - val_accuracy: 0.9798\n",
            "Epoch 9/10\n",
            "235/235 [==============================] - 7s 30ms/step - loss: 0.0156 - accuracy: 0.9951 - val_loss: 0.0590 - val_accuracy: 0.9846\n",
            "Epoch 10/10\n",
            "235/235 [==============================] - 7s 32ms/step - loss: 0.0125 - accuracy: 0.9961 - val_loss: 0.0735 - val_accuracy: 0.9806\n"
          ]
        }
      ]
    }
  ]
}